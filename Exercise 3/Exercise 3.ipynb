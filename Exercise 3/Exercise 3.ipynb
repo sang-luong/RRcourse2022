{
 "cells": [
  {
   "cell_type": "code",
   "execution_count": 4,
   "id": "60617860",
   "metadata": {},
   "outputs": [
    {
     "name": "stdout",
     "output_type": "stream",
     "text": [
      "Requirement already satisfied: us in c:\\users\\admin\\anaconda3\\lib\\site-packages (2.0.2)\n",
      "Requirement already satisfied: jellyfish==0.6.1 in c:\\users\\admin\\anaconda3\\lib\\site-packages (from us) (0.6.1)Note: you may need to restart the kernel to use updated packages.\n",
      "\n"
     ]
    }
   ],
   "source": [
    "pip install us\n",
    "import us"
   ]
  },
  {
   "cell_type": "code",
   "execution_count": 27,
   "id": "33a07b60",
   "metadata": {},
   "outputs": [],
   "source": [
    "UPPER = []\n",
    "for i in range(len(us.states.STATES)):\n",
    "    UPPER.append(us.states.STATES[i].name.upper())"
   ]
  },
  {
   "cell_type": "code",
   "execution_count": 30,
   "id": "4b7d3b7e",
   "metadata": {},
   "outputs": [],
   "source": [
    "lower = []\n",
    "for i in range(len(us.states.STATES)):\n",
    "    lower.append(us.states.STATES[i].name.lower())"
   ]
  },
  {
   "cell_type": "code",
   "execution_count": 44,
   "id": "4dd2f6cd",
   "metadata": {},
   "outputs": [],
   "source": [
    "us_states = open(\"us_states.txt\", \"w\")\n",
    "us_states.write('- US states in UPPERCASE' + \"\\n\" + \"\\n\")\n",
    "\n",
    "for element in UPPER:\n",
    "    us_states.write(element + \"\\n\")\n",
    "    \n",
    "us_states.write( \"\\n\"+'- US states in lowercase' + \"\\n\"+ \"\\n\")\n",
    "\n",
    "for element in lower:\n",
    "    us_states.write(element + \"\\n\")\n",
    "\n",
    "us_states.close()\n"
   ]
  },
  {
   "cell_type": "code",
   "execution_count": null,
   "id": "9487c74b",
   "metadata": {},
   "outputs": [],
   "source": []
  }
 ],
 "metadata": {
  "kernelspec": {
   "display_name": "Python 3 (ipykernel)",
   "language": "python",
   "name": "python3"
  },
  "language_info": {
   "codemirror_mode": {
    "name": "ipython",
    "version": 3
   },
   "file_extension": ".py",
   "mimetype": "text/x-python",
   "name": "python",
   "nbconvert_exporter": "python",
   "pygments_lexer": "ipython3",
   "version": "3.9.7"
  }
 },
 "nbformat": 4,
 "nbformat_minor": 5
}
